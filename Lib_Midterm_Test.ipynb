{
 "cells": [
  {
   "cell_type": "markdown",
   "id": "directed-intake",
   "metadata": {},
   "source": [
    "### Evaluation class model & Visualization\n",
    "static_score_model_class(y, y_pred, aver=None)    ***#aver='macro' (balanced), 'micro' (unbanlanced)***\n",
    "visualize_confusion_matrix(y, y_pred)\n",
    "\n",
    "### Read file from folder\n",
    "read_all_txt_files(dirpath, dirname)\n",
    "\n",
    "### Average score model\n",
    "Average_Score_Model(model, X, y, size=0.25, cv=5)"
   ]
  },
  {
   "cell_type": "code",
   "execution_count": 1,
   "id": "incorporated-taxation",
   "metadata": {},
   "outputs": [],
   "source": [
    "import numpy as np\n",
    "import pandas as pd\n",
    "import matplotlib.pyplot as plt\n",
    "import seaborn as sns\n",
    "import time \n",
    "sns.set_style(\"white\")"
   ]
  },
  {
   "cell_type": "markdown",
   "id": "smooth-eagle",
   "metadata": {},
   "source": [
    "### Evaluation class model"
   ]
  },
  {
   "cell_type": "code",
   "execution_count": 3,
   "id": "foster-promise",
   "metadata": {},
   "outputs": [],
   "source": [
    "from sklearn.metrics import classification_report,confusion_matrix\n",
    "from sklearn.metrics import precision_score, recall_score, f1_score\n",
    "from sklearn.metrics import accuracy_score\n",
    "\n",
    "def static_score_model_class(y, y_pred, aver=None):\n",
    "    accuracy = accuracy_score(y, y_pred)\n",
    "    precision = precision_score(y, y_pred, average=aver)\n",
    "    recall = recall_score(y, y_pred, average=aver)\n",
    "    f1 = f1_score(y, y_pred, average=aver)\n",
    "    return accuracy, recall, precision, f1"
   ]
  },
  {
   "cell_type": "code",
   "execution_count": 4,
   "id": "equal-shift",
   "metadata": {},
   "outputs": [],
   "source": [
    "# accuracy, recall, precision, f1 = static_score_model_class(df['Actual Value'],df['Predict Value'],'macro')\n",
    "# accuracy, recall, precision, f1"
   ]
  },
  {
   "cell_type": "markdown",
   "id": "prescribed-hayes",
   "metadata": {},
   "source": [
    "### Trực quan hóa confusion matrix"
   ]
  },
  {
   "cell_type": "code",
   "execution_count": 5,
   "id": "pharmaceutical-melbourne",
   "metadata": {},
   "outputs": [],
   "source": [
    "def visualize_confusion_matrix(y, y_pred):\n",
    "    cm = confusion_matrix(y, y_pred)\n",
    "    cm_df = pd.DataFrame(cm)\n",
    "    plt.figure(figsize=(6,5))\n",
    "    sns.heatmap(cm_df, annot=True,fmt='g',cmap='Blues')\n",
    "    plt.title('Accuracy:{0:.3f}'.format(accuracy_score(y,y_pred)))\n",
    "    plt.ylabel('True Values')\n",
    "    plt.xlabel('Predicted Values')\n",
    "    plt.show()\n",
    "    return"
   ]
  },
  {
   "cell_type": "code",
   "execution_count": 6,
   "id": "brazilian-checkout",
   "metadata": {},
   "outputs": [],
   "source": [
    "# Test ham\n",
    "# visualize_confusion_matrix(df['Actual Value'],df['Predict Value'])"
   ]
  },
  {
   "cell_type": "markdown",
   "id": "bulgarian-proof",
   "metadata": {},
   "source": [
    "### Average score model"
   ]
  },
  {
   "cell_type": "code",
   "execution_count": 2,
   "id": "lasting-passenger",
   "metadata": {},
   "outputs": [],
   "source": [
    "from sklearn.model_selection import train_test_split\n",
    "\n",
    "def Average_Score_Model(model, X, y, size=0.25, cv=5):\n",
    "    score_train=[]\n",
    "    score_test=[]\n",
    "    duration=[]\n",
    "    ## Thực hiện lặp cv lần, mỗi lần lặp: tách X,y -> tính accuracy của train và test, time đưa vào danh sách\n",
    "    for i in range(1,cv+1):\n",
    "        X_train, X_test, y_train, y_test = train_test_split(X, y, test_size=size) \n",
    "        start = time.time()\n",
    "        model.fit(X_train, y_train)\n",
    "        end = time.time()\n",
    "        score_train.append(model.score(X_train,y_train))\n",
    "        score_test.append(model.score(X_test,y_test))\n",
    "        duration.append((end-start)*1000)\n",
    "    return np.mean(score_test),np.mean(duration) #trung bình score_train, score_test, time"
   ]
  },
  {
   "cell_type": "markdown",
   "id": "dried-overview",
   "metadata": {},
   "source": [
    "### Read file from folder"
   ]
  },
  {
   "cell_type": "code",
   "execution_count": null,
   "id": "accredited-nurse",
   "metadata": {},
   "outputs": [],
   "source": [
    "from pathlib import Path\n",
    "import os\n",
    "import pandas as pd\n",
    "\n",
    "def read_all_txt_files(dirpath, dirname):\n",
    "    text_list=[]\n",
    "    for txt_path in Path(os.path.join(dirpath, dirname)).glob(\"*.txt\"):\n",
    "        f = open(txt_path,encoding= 'unicode_escape')\n",
    "        content = f.read()\n",
    "        f.close()\n",
    "        text_list.append(content)\n",
    "    text_list = pd.DataFrame(text_list, columns=['content'])\n",
    "    text_list['topic'] = dirname\n",
    "    \n",
    "    topic_class = {'business': 0, 'entertainment': 1, 'politics':2, 'sport':3, 'tech':4}\n",
    "    text_list['topic'] = text_list['topic'].map(lambda x: topic_class[x]).astype(int)\n",
    "    \n",
    "    return text_list"
   ]
  },
  {
   "cell_type": "code",
   "execution_count": 2,
   "id": "competitive-abortion",
   "metadata": {},
   "outputs": [],
   "source": [
    "from sklearn.base import BaseEstimator, TransformerMixin\n",
    "class Pre_Process(BaseEstimator, TransformerMixin):\n",
    "    def __init__(self):\n",
    "        print('Khoi tao doi tuong Data Pre_Processing')\n",
    "        \n",
    "    def fit(self, X, y=None ):\n",
    "        print('Vao lenh Fit')\n",
    "        return self\n",
    "    \n",
    "    def transform(self, X, y=None ):\n",
    "        print('Vao lenh Transform')\n",
    "        X_new = X.copy()\n",
    "        X_new = X_new.str.replace('[^a-zA-Z]',' ').str.lower()\n",
    "        return X_new"
   ]
  },
  {
   "cell_type": "code",
   "execution_count": 10,
   "id": "acute-castle",
   "metadata": {},
   "outputs": [],
   "source": [
    "# from sklearn.base import TransformerMixin, BaseEstimator\n",
    "\n",
    "# class dataProcess(TransformerMixin, BaseEstimator):\n",
    "#     def __init__(self, verbose = False):\n",
    "#         self.verbose = verbose\n",
    "#     def fit(self, X, y=None):\n",
    "#         if(self.verbose):\n",
    "#             print('Verbose mode on!')\n",
    "#         return self\n",
    "#     def transform(self, X, y=None):\n",
    "#         return (X.str.replace('[^a-zA-Z]', ' ').str.lower())"
   ]
  },
  {
   "cell_type": "code",
   "execution_count": null,
   "id": "exotic-asthma",
   "metadata": {},
   "outputs": [],
   "source": []
  }
 ],
 "metadata": {
  "kernelspec": {
   "display_name": "Python 3",
   "language": "python",
   "name": "python3"
  },
  "language_info": {
   "codemirror_mode": {
    "name": "ipython",
    "version": 3
   },
   "file_extension": ".py",
   "mimetype": "text/x-python",
   "name": "python",
   "nbconvert_exporter": "python",
   "pygments_lexer": "ipython3",
   "version": "3.6.8"
  }
 },
 "nbformat": 4,
 "nbformat_minor": 5
}

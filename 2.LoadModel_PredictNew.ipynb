{
 "cells": [
  {
   "cell_type": "code",
   "execution_count": 1,
   "id": "referenced-leave",
   "metadata": {},
   "outputs": [
    {
     "name": "stdout",
     "output_type": "stream",
     "text": [
      "importing Jupyter notebook from Lib_Midterm_Test.ipynb\n"
     ]
    }
   ],
   "source": [
    "import pandas as pd\n",
    "import numpy as np\n",
    "import matplotlib.pyplot as plt\n",
    "import seaborn as sns\n",
    "\n",
    "import import_ipynb\n",
    "from Lib_Midterm_Test import *\n",
    "from sklearn.metrics import confusion_matrix, accuracy_score, classification_report"
   ]
  },
  {
   "cell_type": "code",
   "execution_count": 2,
   "id": "natural-camping",
   "metadata": {},
   "outputs": [],
   "source": [
    "dirpath = 'Test/bbc_test/'\n",
    "topics = ['business','entertainment','politics','sport','tech']\n",
    "\n",
    "df_test = []\n",
    "for topic in topics:\n",
    "    df_topic = read_all_txt_files(dirpath, topic)\n",
    "    df_test.append(df_topic)\n",
    "df_test = pd.concat(df_test, ignore_index=True)"
   ]
  },
  {
   "cell_type": "code",
   "execution_count": 3,
   "id": "prescription-waterproof",
   "metadata": {},
   "outputs": [
    {
     "data": {
      "text/html": [
       "<div>\n",
       "<style scoped>\n",
       "    .dataframe tbody tr th:only-of-type {\n",
       "        vertical-align: middle;\n",
       "    }\n",
       "\n",
       "    .dataframe tbody tr th {\n",
       "        vertical-align: top;\n",
       "    }\n",
       "\n",
       "    .dataframe thead th {\n",
       "        text-align: right;\n",
       "    }\n",
       "</style>\n",
       "<table border=\"1\" class=\"dataframe\">\n",
       "  <thead>\n",
       "    <tr style=\"text-align: right;\">\n",
       "      <th></th>\n",
       "      <th>content</th>\n",
       "      <th>topic</th>\n",
       "    </tr>\n",
       "  </thead>\n",
       "  <tbody>\n",
       "    <tr>\n",
       "      <th>0</th>\n",
       "      <td>Aids and climate top Davos agenda\\n\\nClimate c...</td>\n",
       "      <td>0</td>\n",
       "    </tr>\n",
       "    <tr>\n",
       "      <th>1</th>\n",
       "      <td>Lacroix label bought by US firm\\n\\nLuxury good...</td>\n",
       "      <td>0</td>\n",
       "    </tr>\n",
       "    <tr>\n",
       "      <th>2</th>\n",
       "      <td>Saudi investor picks up the Savoy\\n\\nLondon's ...</td>\n",
       "      <td>0</td>\n",
       "    </tr>\n",
       "    <tr>\n",
       "      <th>3</th>\n",
       "      <td>Wall Street cool to eBay's profit\\n\\nShares in...</td>\n",
       "      <td>0</td>\n",
       "    </tr>\n",
       "    <tr>\n",
       "      <th>4</th>\n",
       "      <td>Parmalat founder offers apology\\n\\nThe founder...</td>\n",
       "      <td>0</td>\n",
       "    </tr>\n",
       "  </tbody>\n",
       "</table>\n",
       "</div>"
      ],
      "text/plain": [
       "                                             content  topic\n",
       "0  Aids and climate top Davos agenda\\n\\nClimate c...      0\n",
       "1  Lacroix label bought by US firm\\n\\nLuxury good...      0\n",
       "2  Saudi investor picks up the Savoy\\n\\nLondon's ...      0\n",
       "3  Wall Street cool to eBay's profit\\n\\nShares in...      0\n",
       "4  Parmalat founder offers apology\\n\\nThe founder...      0"
      ]
     },
     "execution_count": 3,
     "metadata": {},
     "output_type": "execute_result"
    }
   ],
   "source": [
    "df_test.head()"
   ]
  },
  {
   "cell_type": "code",
   "execution_count": 4,
   "id": "obvious-survey",
   "metadata": {},
   "outputs": [
    {
     "name": "stdout",
     "output_type": "stream",
     "text": [
      "<class 'pandas.core.frame.DataFrame'>\n",
      "RangeIndex: 287 entries, 0 to 286\n",
      "Data columns (total 2 columns):\n",
      " #   Column   Non-Null Count  Dtype \n",
      "---  ------   --------------  ----- \n",
      " 0   content  287 non-null    object\n",
      " 1   topic    287 non-null    int64 \n",
      "dtypes: int64(1), object(1)\n",
      "memory usage: 4.6+ KB\n"
     ]
    }
   ],
   "source": [
    "df_test.info()"
   ]
  },
  {
   "cell_type": "code",
   "execution_count": 5,
   "id": "gentle-hormone",
   "metadata": {},
   "outputs": [
    {
     "data": {
      "text/plain": [
       "(287, 2)"
      ]
     },
     "execution_count": 5,
     "metadata": {},
     "output_type": "execute_result"
    }
   ],
   "source": [
    "df_test.shape"
   ]
  },
  {
   "cell_type": "markdown",
   "id": "micro-advisory",
   "metadata": {},
   "source": [
    "### ---Test với full tập Test"
   ]
  },
  {
   "cell_type": "code",
   "execution_count": 6,
   "id": "narrative-anger",
   "metadata": {},
   "outputs": [],
   "source": [
    "X_test = df_test['content']\n",
    "y_test = df_test['topic']"
   ]
  },
  {
   "cell_type": "code",
   "execution_count": 7,
   "id": "artistic-charger",
   "metadata": {
    "scrolled": true
   },
   "outputs": [],
   "source": [
    "import pickle\n",
    "### Load model bbc_model.pkl\n",
    "with open('bbc_model_DamThiMinhPhuong_K269.pkl', 'rb') as file: \n",
    "    bbc_model = pickle.load(file)"
   ]
  },
  {
   "cell_type": "code",
   "execution_count": 8,
   "id": "vital-logan",
   "metadata": {
    "scrolled": true
   },
   "outputs": [
    {
     "name": "stdout",
     "output_type": "stream",
     "text": [
      "Vao lenh Transform\n"
     ]
    }
   ],
   "source": [
    "y_pred = bbc_model.predict(X_test)"
   ]
  },
  {
   "cell_type": "code",
   "execution_count": 9,
   "id": "apparent-penalty",
   "metadata": {},
   "outputs": [
    {
     "data": {
      "text/plain": [
       "(0.9790940766550522,\n",
       " 0.9790940766550522,\n",
       " 0.9790940766550522,\n",
       " 0.9790940766550522)"
      ]
     },
     "execution_count": 9,
     "metadata": {},
     "output_type": "execute_result"
    }
   ],
   "source": [
    "accuracy, recall, precision, f1 = static_score_model_class(y_test, y_pred, aver='micro')  #số lượng sample sport=0 => dữ liệu không cân bằng\n",
    "accuracy, recall, precision, f1"
   ]
  },
  {
   "cell_type": "code",
   "execution_count": 10,
   "id": "interstate-agenda",
   "metadata": {},
   "outputs": [
    {
     "data": {
      "image/png": "[encoded data removed]",
      "text/plain": [
       "<Figure size 432x360 with 2 Axes>"
      ]
     },
     "metadata": {},
     "output_type": "display_data"
    }
   ],
   "source": [
    "cm = confusion_matrix(y_test, y_pred)\n",
    "cm_df = pd.DataFrame(cm, index=[0,1,2,4], columns=[0,1,2,4])\n",
    "plt.figure(figsize=(6,5))\n",
    "sns.heatmap(cm_df, annot=True,fmt='g',cmap='Blues')\n",
    "plt.title('Accuracy:{0:.3f}'.format(accuracy_score(y_test,y_pred)))\n",
    "plt.ylabel('True Values')\n",
    "plt.xlabel('Predicted Values')\n",
    "plt.show()"
   ]
  },
  {
   "cell_type": "code",
   "execution_count": 11,
   "id": "charming-stewart",
   "metadata": {},
   "outputs": [
    {
     "name": "stdout",
     "output_type": "stream",
     "text": [
      "               precision    recall  f1-score   support\n",
      "\n",
      "     business       0.99      0.96      0.97        80\n",
      "entertainment       1.00      0.98      0.99        88\n",
      "     politics       0.96      1.00      0.98        67\n",
      "         tech       0.96      0.98      0.97        52\n",
      "\n",
      "     accuracy                           0.98       287\n",
      "    macro avg       0.98      0.98      0.98       287\n",
      " weighted avg       0.98      0.98      0.98       287\n",
      "\n"
     ]
    }
   ],
   "source": [
    "target_names = ['business','entertainment','politics','tech']\n",
    "print(classification_report(y_test, y_pred, target_names = target_names))"
   ]
  },
  {
   "cell_type": "markdown",
   "id": "tropical-namibia",
   "metadata": {},
   "source": [
    "### ---Test với 1 phần của tập Tech"
   ]
  },
  {
   "cell_type": "code",
   "execution_count": 12,
   "id": "hindu-manor",
   "metadata": {},
   "outputs": [
    {
     "data": {
      "text/html": [
       "<div>\n",
       "<style scoped>\n",
       "    .dataframe tbody tr th:only-of-type {\n",
       "        vertical-align: middle;\n",
       "    }\n",
       "\n",
       "    .dataframe tbody tr th {\n",
       "        vertical-align: top;\n",
       "    }\n",
       "\n",
       "    .dataframe thead th {\n",
       "        text-align: right;\n",
       "    }\n",
       "</style>\n",
       "<table border=\"1\" class=\"dataframe\">\n",
       "  <thead>\n",
       "    <tr style=\"text-align: right;\">\n",
       "      <th></th>\n",
       "      <th>content</th>\n",
       "      <th>topic</th>\n",
       "    </tr>\n",
       "  </thead>\n",
       "  <tbody>\n",
       "    <tr>\n",
       "      <th>0</th>\n",
       "      <td>Cabs collect mountain of mobiles\\n\\nGadgets ar...</td>\n",
       "      <td>4</td>\n",
       "    </tr>\n",
       "    <tr>\n",
       "      <th>1</th>\n",
       "      <td>Digital UK driven by net and TV\\n\\nThe UK's ad...</td>\n",
       "      <td>4</td>\n",
       "    </tr>\n",
       "    <tr>\n",
       "      <th>2</th>\n",
       "      <td>Confusion over high-definition TV\\n\\nNow that ...</td>\n",
       "      <td>4</td>\n",
       "    </tr>\n",
       "    <tr>\n",
       "      <th>3</th>\n",
       "      <td>Commodore finds new lease of life\\n\\nThe once-...</td>\n",
       "      <td>4</td>\n",
       "    </tr>\n",
       "    <tr>\n",
       "      <th>4</th>\n",
       "      <td>Mobile multimedia slow to catch on\\n\\nThere is...</td>\n",
       "      <td>4</td>\n",
       "    </tr>\n",
       "  </tbody>\n",
       "</table>\n",
       "</div>"
      ],
      "text/plain": [
       "                                             content  topic\n",
       "0  Cabs collect mountain of mobiles\\n\\nGadgets ar...      4\n",
       "1  Digital UK driven by net and TV\\n\\nThe UK's ad...      4\n",
       "2  Confusion over high-definition TV\\n\\nNow that ...      4\n",
       "3  Commodore finds new lease of life\\n\\nThe once-...      4\n",
       "4  Mobile multimedia slow to catch on\\n\\nThere is...      4"
      ]
     },
     "execution_count": 12,
     "metadata": {},
     "output_type": "execute_result"
    }
   ],
   "source": [
    "df_test_tech = read_all_txt_files(dirpath, 'tech')\n",
    "df_test_tech.head()"
   ]
  },
  {
   "cell_type": "code",
   "execution_count": 13,
   "id": "enhanced-suffering",
   "metadata": {},
   "outputs": [],
   "source": [
    "X_tech = df_test_tech['content']\n",
    "y_tech = df_test_tech['topic']"
   ]
  },
  {
   "cell_type": "code",
   "execution_count": 14,
   "id": "derived-interaction",
   "metadata": {},
   "outputs": [
    {
     "name": "stdout",
     "output_type": "stream",
     "text": [
      "Vao lenh Transform\n"
     ]
    }
   ],
   "source": [
    "y_pred_tech = bbc_model.predict(X_tech[10:40])"
   ]
  },
  {
   "cell_type": "code",
   "execution_count": 15,
   "id": "automatic-still",
   "metadata": {},
   "outputs": [
    {
     "data": {
      "text/plain": [
       "array([4, 4, 4, 4, 4, 4, 4, 4, 4, 4, 4, 4, 4, 4, 4, 4, 4, 4, 4, 4, 4, 4,\n",
       "       4, 4, 4, 4, 4, 4, 4, 4])"
      ]
     },
     "execution_count": 15,
     "metadata": {},
     "output_type": "execute_result"
    }
   ],
   "source": [
    "y_pred_tech"
   ]
  },
  {
   "cell_type": "code",
   "execution_count": 16,
   "id": "suspected-doubt",
   "metadata": {
    "scrolled": true
   },
   "outputs": [
    {
     "data": {
      "text/plain": [
       "(1.0, 1.0, 1.0, 1.0)"
      ]
     },
     "execution_count": 16,
     "metadata": {},
     "output_type": "execute_result"
    }
   ],
   "source": [
    "accuracy, recall, precision, f1 = static_score_model_class(y_tech[10:40], y_pred_tech, aver='micro')\n",
    "accuracy, recall, precision, f1"
   ]
  },
  {
   "cell_type": "markdown",
   "id": "phantom-occurrence",
   "metadata": {},
   "source": [
    "### Kết Luận\n",
    "- Mô hình có kết quả tốt trên cả train (100%) và test (97,9%), chênh lệch train và test nhỏ\n",
    "- Precision, Recall, F1_score rất cao ~0,98 => model có thể predict các lớp rất tốt \n",
    "- => Mô hình Logistic Regression phù hợp "
   ]
  },
  {
   "cell_type": "markdown",
   "id": "controlled-scanner",
   "metadata": {},
   "source": [
    "# THANK YOU!"
   ]
  }
 ],
 "metadata": {
  "kernelspec": {
   "display_name": "Python 3 (ipykernel)",
   "language": "python",
   "name": "python3"
  },
  "language_info": {
   "codemirror_mode": {
    "name": "ipython",
    "version": 3
   },
   "file_extension": ".py",
   "mimetype": "text/x-python",
   "name": "python",
   "nbconvert_exporter": "python",
   "pygments_lexer": "ipython3",
   "version": "3.8.12"
  }
 },
 "nbformat": 4,
 "nbformat_minor": 5
}
